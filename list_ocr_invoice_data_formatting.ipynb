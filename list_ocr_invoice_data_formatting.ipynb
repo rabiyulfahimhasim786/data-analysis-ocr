{
  "nbformat": 4,
  "nbformat_minor": 0,
  "metadata": {
    "colab": {
      "provenance": [],
      "authorship_tag": "ABX9TyMrp8x6wbucumr0mMcJKe4I",
      "include_colab_link": true
    },
    "kernelspec": {
      "name": "python3",
      "display_name": "Python 3"
    },
    "language_info": {
      "name": "python"
    }
  },
  "cells": [
    {
      "cell_type": "markdown",
      "metadata": {
        "id": "view-in-github",
        "colab_type": "text"
      },
      "source": [
        "<a href=\"https://colab.research.google.com/github/rabiyulfahimhasim786/data-analysis-ocr/blob/main/list_ocr_invoice_data_formatting.ipynb\" target=\"_parent\"><img src=\"https://colab.research.google.com/assets/colab-badge.svg\" alt=\"Open In Colab\"/></a>"
      ]
    },
    {
      "cell_type": "markdown",
      "source": [
        "**Invoice data analysis - OCR**"
      ],
      "metadata": {
        "id": "Z4Zu6xiJ6o9O"
      }
    },
    {
      "cell_type": "code",
      "execution_count": null,
      "metadata": {
        "colab": {
          "base_uri": "https://localhost:8080/"
        },
        "id": "ZwtIOwF06Pk8",
        "outputId": "8360c916-01bd-49db-a029-86c9cffc8ae0"
      },
      "outputs": [
        {
          "output_type": "stream",
          "name": "stdout",
          "text": [
            "0    ['HomeGoods', 'THE VILLAGE @ CINCO RANCH', '23...\n",
            "1    ['HomeGoods', 'GRAND MORTON TOWN CENTER', '273...\n",
            "Name: Text, dtype: object\n",
            "['HomeGoods', 'THE VILLAGE @ CINCO RANCH', '23518 WESTHEIMER PARKWAY', 'KATY, TX 77494', 'United States', '281-574-1720', 'REGULAR SALE', '41 - KITCHEN/ACCESS 392204', '$7.99 T', '41 - KITCHEN/ACCESS 403389', '$5.99 T', '41 - KITCHEN/ACCESS 408621', '$7.99 T', '41 - KITCHEN/ACCESS 408621', '$7.99 T', '36 - TOWELS', '096504', '$8.99 T', '36 - TOWELS', '096504', '$8.99 T', '36 - TOWELS', '096508', '$12.99 T', '56 - Q LINE', '012004', '$4.99 T', '31 - DINNERWARE/CER 538462', '$12.99 T', '31 - DINNERWARE/CER 538459', '$12.99 T', 'Subtotal', '$91.90', 'TX 8.250% Sales Tax', '$7.58', 'Total', '$99.48', 'Gift Card', '$81.17', '9526', 'Entry Method: Swiped', 'Balance: $0.00', 'VISA', '$18.31', 'TRANSACTION RECORD', '2876', 'PURCHASE', 'EXPIRES **/** CHIP', 'AUTH# 94639D', 'AID A0000000031010', 'APPLICATION LABEL VISA CREDIT', 'Signature Captured', '000527', '00200061', '20:23:32', 'APPROVED', 'Change', '$0.00', 'HomeGoods VALUES YOUR FEEDBACK! ! !', 'Tell us what you think about', 'your store visit today and', 'enter a monthly drawing to win a', '$500 HomeGoods Gift Card!', 'Visit www.HOMEGOODSFEEDBACK.com', 'Respond by 9/21/22']\n",
            "['HomeGoods', 'GRAND MORTON TOWN CENTER', '2732 WEST GRAND PKWY N', 'KATY, TX 77449', 'United States', '281-665-4300', 'REGULAR SALE', '35- CANDLES', '252897', '$15.00 T', 'Subtotal', '$15.00', 'TX 8.250% Sales Tax', '$1.24', 'Total', '$16.24', 'Gift Card', '$16.24', '9526', 'Entry Method: Swiped', 'Balance: $81.17', 'Change', '$0.00', 'HOMEGOODS VALUES YOUR FEEDBACK!!!!', 'Tell us what you think about', 'your store visit today and', 'enter a monthly drawing to win a', '$500 HomeGoods Gift Card!', 'Visit www.HOHEGOODSFEEDBACK.com', 'Respond by 9/11/22', 'You will need to reference', 'your receipt', 'Survey number: 1011026519', 'SEE WEBSITE FOR COMPLETE RULES', 'Sold Item Count = 1', '01131KYN611411ELP4AWR4Q', '281011 2 6519 08/28/2022 18:56:03', '1053', 'Customer Copy', 'THANK YOU FOR SHOPPING AT HOMEGOODS']\n"
          ]
        }
      ],
      "source": [
        "import pandas as pd\n",
        "\n",
        "# reading the csv file\n",
        "df = pd.read_csv(\"invoicetext.csv\")\n",
        "#print(df)\n",
        "var = df['Text']\n",
        "var\n",
        "print(var)\n",
        "for x in var:\n",
        "  print(x)\n"
      ]
    },
    {
      "cell_type": "code",
      "source": [
        "import pandas as pd\n",
        "\n",
        "# reading the csv file\n",
        "df = pd.read_csv(\"invoicetext.csv\")\n",
        "#print(df)\n",
        "var = df['Text']\n",
        "var\n",
        "print(var)\n",
        "for x in var:\n",
        "  print(x)\n",
        "\n",
        "# initializing bad_chars_list\n",
        "bad_chars = ['[', ']', \"'\", \"'\"]\n",
        "\n",
        "# initializing test string\n",
        "#test_string = \"Ge;ek*s:fo!r;Ge*e*k:s!\"\n",
        "\n",
        "# printing original string\n",
        "print(\"Original String : \" + x)\n",
        "\n",
        "# using filter() to\n",
        "# remove bad_chars\n",
        "test_string = ''.join((filter(lambda i: i not in bad_chars,\n",
        "\t\t\t\t\t\t\tx)))\n",
        "# printing resultant string\n",
        "print(\"Resultant list is : \" + str(test_string))\n",
        "\n",
        "def Convert(string):\n",
        "\tli = list(string.split(\",\"))\n",
        "\treturn li\n",
        "\n",
        "\n",
        "# Driver code\n",
        "#str1 = \"Geeks for Geeks\"\n",
        "print(Convert(str(test_string)))"
      ],
      "metadata": {
        "id": "1BlNl_ecf86I",
        "outputId": "d9170113-4d35-47b8-c0ed-eeaab98d683f",
        "colab": {
          "base_uri": "https://localhost:8080/"
        }
      },
      "execution_count": null,
      "outputs": [
        {
          "output_type": "stream",
          "name": "stdout",
          "text": [
            "0    ['HomeGoods', 'THE VILLAGE @ CINCO RANCH', '23...\n",
            "1    ['HomeGoods', 'GRAND MORTON TOWN CENTER', '273...\n",
            "Name: Text, dtype: object\n",
            "['HomeGoods', 'THE VILLAGE @ CINCO RANCH', '23518 WESTHEIMER PARKWAY', 'KATY, TX 77494', 'United States', '281-574-1720', 'REGULAR SALE', '41 - KITCHEN/ACCESS 392204', '$7.99 T', '41 - KITCHEN/ACCESS 403389', '$5.99 T', '41 - KITCHEN/ACCESS 408621', '$7.99 T', '41 - KITCHEN/ACCESS 408621', '$7.99 T', '36 - TOWELS', '096504', '$8.99 T', '36 - TOWELS', '096504', '$8.99 T', '36 - TOWELS', '096508', '$12.99 T', '56 - Q LINE', '012004', '$4.99 T', '31 - DINNERWARE/CER 538462', '$12.99 T', '31 - DINNERWARE/CER 538459', '$12.99 T', 'Subtotal', '$91.90', 'TX 8.250% Sales Tax', '$7.58', 'Total', '$99.48', 'Gift Card', '$81.17', '9526', 'Entry Method: Swiped', 'Balance: $0.00', 'VISA', '$18.31', 'TRANSACTION RECORD', '2876', 'PURCHASE', 'EXPIRES **/** CHIP', 'AUTH# 94639D', 'AID A0000000031010', 'APPLICATION LABEL VISA CREDIT', 'Signature Captured', '000527', '00200061', '20:23:32', 'APPROVED', 'Change', '$0.00', 'HomeGoods VALUES YOUR FEEDBACK! ! !', 'Tell us what you think about', 'your store visit today and', 'enter a monthly drawing to win a', '$500 HomeGoods Gift Card!', 'Visit www.HOMEGOODSFEEDBACK.com', 'Respond by 9/21/22']\n",
            "['HomeGoods', 'GRAND MORTON TOWN CENTER', '2732 WEST GRAND PKWY N', 'KATY, TX 77449', 'United States', '281-665-4300', 'REGULAR SALE', '35- CANDLES', '252897', '$15.00 T', 'Subtotal', '$15.00', 'TX 8.250% Sales Tax', '$1.24', 'Total', '$16.24', 'Gift Card', '$16.24', '9526', 'Entry Method: Swiped', 'Balance: $81.17', 'Change', '$0.00', 'HOMEGOODS VALUES YOUR FEEDBACK!!!!', 'Tell us what you think about', 'your store visit today and', 'enter a monthly drawing to win a', '$500 HomeGoods Gift Card!', 'Visit www.HOHEGOODSFEEDBACK.com', 'Respond by 9/11/22', 'You will need to reference', 'your receipt', 'Survey number: 1011026519', 'SEE WEBSITE FOR COMPLETE RULES', 'Sold Item Count = 1', '01131KYN611411ELP4AWR4Q', '281011 2 6519 08/28/2022 18:56:03', '1053', 'Customer Copy', 'THANK YOU FOR SHOPPING AT HOMEGOODS']\n",
            "Original String : ['HomeGoods', 'GRAND MORTON TOWN CENTER', '2732 WEST GRAND PKWY N', 'KATY, TX 77449', 'United States', '281-665-4300', 'REGULAR SALE', '35- CANDLES', '252897', '$15.00 T', 'Subtotal', '$15.00', 'TX 8.250% Sales Tax', '$1.24', 'Total', '$16.24', 'Gift Card', '$16.24', '9526', 'Entry Method: Swiped', 'Balance: $81.17', 'Change', '$0.00', 'HOMEGOODS VALUES YOUR FEEDBACK!!!!', 'Tell us what you think about', 'your store visit today and', 'enter a monthly drawing to win a', '$500 HomeGoods Gift Card!', 'Visit www.HOHEGOODSFEEDBACK.com', 'Respond by 9/11/22', 'You will need to reference', 'your receipt', 'Survey number: 1011026519', 'SEE WEBSITE FOR COMPLETE RULES', 'Sold Item Count = 1', '01131KYN611411ELP4AWR4Q', '281011 2 6519 08/28/2022 18:56:03', '1053', 'Customer Copy', 'THANK YOU FOR SHOPPING AT HOMEGOODS']\n",
            "Resultant list is : HomeGoods, GRAND MORTON TOWN CENTER, 2732 WEST GRAND PKWY N, KATY, TX 77449, United States, 281-665-4300, REGULAR SALE, 35- CANDLES, 252897, $15.00 T, Subtotal, $15.00, TX 8.250% Sales Tax, $1.24, Total, $16.24, Gift Card, $16.24, 9526, Entry Method: Swiped, Balance: $81.17, Change, $0.00, HOMEGOODS VALUES YOUR FEEDBACK!!!!, Tell us what you think about, your store visit today and, enter a monthly drawing to win a, $500 HomeGoods Gift Card!, Visit www.HOHEGOODSFEEDBACK.com, Respond by 9/11/22, You will need to reference, your receipt, Survey number: 1011026519, SEE WEBSITE FOR COMPLETE RULES, Sold Item Count = 1, 01131KYN611411ELP4AWR4Q, 281011 2 6519 08/28/2022 18:56:03, 1053, Customer Copy, THANK YOU FOR SHOPPING AT HOMEGOODS\n",
            "['HomeGoods', ' GRAND MORTON TOWN CENTER', ' 2732 WEST GRAND PKWY N', ' KATY', ' TX 77449', ' United States', ' 281-665-4300', ' REGULAR SALE', ' 35- CANDLES', ' 252897', ' $15.00 T', ' Subtotal', ' $15.00', ' TX 8.250% Sales Tax', ' $1.24', ' Total', ' $16.24', ' Gift Card', ' $16.24', ' 9526', ' Entry Method: Swiped', ' Balance: $81.17', ' Change', ' $0.00', ' HOMEGOODS VALUES YOUR FEEDBACK!!!!', ' Tell us what you think about', ' your store visit today and', ' enter a monthly drawing to win a', ' $500 HomeGoods Gift Card!', ' Visit www.HOHEGOODSFEEDBACK.com', ' Respond by 9/11/22', ' You will need to reference', ' your receipt', ' Survey number: 1011026519', ' SEE WEBSITE FOR COMPLETE RULES', ' Sold Item Count = 1', ' 01131KYN611411ELP4AWR4Q', ' 281011 2 6519 08/28/2022 18:56:03', ' 1053', ' Customer Copy', ' THANK YOU FOR SHOPPING AT HOMEGOODS']\n"
          ]
        }
      ]
    },
    {
      "cell_type": "code",
      "source": [
        "import pandas as pd\n",
        "\n",
        "# reading the csv file\n",
        "df = pd.read_csv(\"invoicetext.csv\")\n",
        "#print(df)\n",
        "var = df['Text']\n",
        "var\n",
        "\n",
        "print(var)\n",
        "for x in var:\n",
        "  print(x)\n",
        "\n",
        "\n",
        "def Convert(string):\n",
        "\tli = list(string.split(\",\"))\n",
        "\treturn li\n",
        "\n",
        "\n",
        "# Driver code\n",
        "#str1 = \"Geeks for Geeks\"\n",
        "print(Convert(x))"
      ],
      "metadata": {
        "colab": {
          "base_uri": "https://localhost:8080/"
        },
        "id": "EAcRNJY-Pi6G",
        "outputId": "f09e57c0-74c4-475c-97d5-9fbdb295d7c9"
      },
      "execution_count": null,
      "outputs": [
        {
          "output_type": "stream",
          "name": "stdout",
          "text": [
            "0    ['HomeGoods', 'THE VILLAGE @ CINCO RANCH', '23...\n",
            "1    ['HomeGoods', 'GRAND MORTON TOWN CENTER', '273...\n",
            "Name: Text, dtype: object\n",
            "['HomeGoods', 'THE VILLAGE @ CINCO RANCH', '23518 WESTHEIMER PARKWAY', 'KATY, TX 77494', 'United States', '281-574-1720', 'REGULAR SALE', '41 - KITCHEN/ACCESS 392204', '$7.99 T', '41 - KITCHEN/ACCESS 403389', '$5.99 T', '41 - KITCHEN/ACCESS 408621', '$7.99 T', '41 - KITCHEN/ACCESS 408621', '$7.99 T', '36 - TOWELS', '096504', '$8.99 T', '36 - TOWELS', '096504', '$8.99 T', '36 - TOWELS', '096508', '$12.99 T', '56 - Q LINE', '012004', '$4.99 T', '31 - DINNERWARE/CER 538462', '$12.99 T', '31 - DINNERWARE/CER 538459', '$12.99 T', 'Subtotal', '$91.90', 'TX 8.250% Sales Tax', '$7.58', 'Total', '$99.48', 'Gift Card', '$81.17', '9526', 'Entry Method: Swiped', 'Balance: $0.00', 'VISA', '$18.31', 'TRANSACTION RECORD', '2876', 'PURCHASE', 'EXPIRES **/** CHIP', 'AUTH# 94639D', 'AID A0000000031010', 'APPLICATION LABEL VISA CREDIT', 'Signature Captured', '000527', '00200061', '20:23:32', 'APPROVED', 'Change', '$0.00', 'HomeGoods VALUES YOUR FEEDBACK! ! !', 'Tell us what you think about', 'your store visit today and', 'enter a monthly drawing to win a', '$500 HomeGoods Gift Card!', 'Visit www.HOMEGOODSFEEDBACK.com', 'Respond by 9/21/22']\n",
            "['HomeGoods', 'GRAND MORTON TOWN CENTER', '2732 WEST GRAND PKWY N', 'KATY, TX 77449', 'United States', '281-665-4300', 'REGULAR SALE', '35- CANDLES', '252897', '$15.00 T', 'Subtotal', '$15.00', 'TX 8.250% Sales Tax', '$1.24', 'Total', '$16.24', 'Gift Card', '$16.24', '9526', 'Entry Method: Swiped', 'Balance: $81.17', 'Change', '$0.00', 'HOMEGOODS VALUES YOUR FEEDBACK!!!!', 'Tell us what you think about', 'your store visit today and', 'enter a monthly drawing to win a', '$500 HomeGoods Gift Card!', 'Visit www.HOHEGOODSFEEDBACK.com', 'Respond by 9/11/22', 'You will need to reference', 'your receipt', 'Survey number: 1011026519', 'SEE WEBSITE FOR COMPLETE RULES', 'Sold Item Count = 1', '01131KYN611411ELP4AWR4Q', '281011 2 6519 08/28/2022 18:56:03', '1053', 'Customer Copy', 'THANK YOU FOR SHOPPING AT HOMEGOODS']\n",
            "[\"['HomeGoods'\", \" 'GRAND MORTON TOWN CENTER'\", \" '2732 WEST GRAND PKWY N'\", \" 'KATY\", \" TX 77449'\", \" 'United States'\", \" '281-665-4300'\", \" 'REGULAR SALE'\", \" '35- CANDLES'\", \" '252897'\", \" '$15.00 T'\", \" 'Subtotal'\", \" '$15.00'\", \" 'TX 8.250% Sales Tax'\", \" '$1.24'\", \" 'Total'\", \" '$16.24'\", \" 'Gift Card'\", \" '$16.24'\", \" '9526'\", \" 'Entry Method: Swiped'\", \" 'Balance: $81.17'\", \" 'Change'\", \" '$0.00'\", \" 'HOMEGOODS VALUES YOUR FEEDBACK!!!!'\", \" 'Tell us what you think about'\", \" 'your store visit today and'\", \" 'enter a monthly drawing to win a'\", \" '$500 HomeGoods Gift Card!'\", \" 'Visit www.HOHEGOODSFEEDBACK.com'\", \" 'Respond by 9/11/22'\", \" 'You will need to reference'\", \" 'your receipt'\", \" 'Survey number: 1011026519'\", \" 'SEE WEBSITE FOR COMPLETE RULES'\", \" 'Sold Item Count = 1'\", \" '01131KYN611411ELP4AWR4Q'\", \" '281011 2 6519 08/28/2022 18:56:03'\", \" '1053'\", \" 'Customer Copy'\", \" 'THANK YOU FOR SHOPPING AT HOMEGOODS']\"]\n"
          ]
        }
      ]
    },
    {
      "cell_type": "code",
      "source": [
        "# Python code to convert string to list\n",
        "\n",
        "\n",
        "def Convert(string):\n",
        "\tli = list(string.split(\" \"))\n",
        "\treturn li\n",
        "\n",
        "\n",
        "# Driver code\n",
        "str1 = \"Geeks for Geeks\"\n",
        "print(Convert(str1))\n"
      ],
      "metadata": {
        "id": "zwQlRk20esW4",
        "outputId": "e1a4f3da-e8c4-4227-84d5-9a8c72690508",
        "colab": {
          "base_uri": "https://localhost:8080/"
        }
      },
      "execution_count": null,
      "outputs": [
        {
          "output_type": "stream",
          "name": "stdout",
          "text": [
            "['Geeks', 'for', 'Geeks']\n"
          ]
        }
      ]
    },
    {
      "cell_type": "code",
      "source": [
        "string = \"Ge;ek * s:fo ! r;Ge * e*k:s !\"\n",
        "\n",
        "test_str = ''.join(letter for letter in string if letter.isalnum())\n",
        "print(test_str)"
      ],
      "metadata": {
        "id": "7yxvQpPufq6Q",
        "outputId": "63f1f518-08b1-4194-8a2b-79882595c2e5",
        "colab": {
          "base_uri": "https://localhost:8080/"
        }
      },
      "execution_count": null,
      "outputs": [
        {
          "output_type": "stream",
          "name": "stdout",
          "text": [
            "GeeksforGeeks\n"
          ]
        }
      ]
    },
    {
      "cell_type": "code",
      "source": [
        "# initializing bad_chars_list\n",
        "bad_chars = [';', ':', '!', \"*\"]\n",
        "\n",
        "# initializing test string\n",
        "test_string = \"Ge;ek*s:fo!r;Ge*e*k:s!\"\n",
        "\n",
        "# printing original string\n",
        "print(\"Original String : \" + test_string)\n",
        "\n",
        "# using filter() to\n",
        "# remove bad_chars\n",
        "test_string = ''.join((filter(lambda i: i not in bad_chars,\n",
        "\t\t\t\t\t\t\ttest_string)))\n",
        "# printing resultant string\n",
        "print(\"Resultant list is : \" + str(test_string))"
      ],
      "metadata": {
        "id": "jnagWArGgQOy",
        "outputId": "e68548c7-393e-43e6-abf6-450867f28791",
        "colab": {
          "base_uri": "https://localhost:8080/"
        }
      },
      "execution_count": null,
      "outputs": [
        {
          "output_type": "stream",
          "name": "stdout",
          "text": [
            "Original String : Ge;ek*s:fo!r;Ge*e*k:s!\n",
            "Resultant list is : GeeksforGeeks\n"
          ]
        }
      ]
    },
    {
      "cell_type": "code",
      "source": [
        "import numpy as np\n",
        "data = pd.DataFrame([[\"Drake\", 1], [\"John\", 2], [\"Ben\", 1], \n",
        "                     [\"Joy\", 4], [\"Joseph\", 10], [np.nan, 7]], \n",
        "                     columns = [\"col1\", \"col2\"])\n",
        "\n",
        "df_filtered = data[data.col1.str.startswith(\"Jo\", na = False)]\n",
        "print(df_filtered)"
      ],
      "metadata": {
        "colab": {
          "base_uri": "https://localhost:8080/"
        },
        "id": "1RV2rFh-ZUp6",
        "outputId": "74d0ccdf-2a7c-44cd-f244-1eb6ef483ee4"
      },
      "execution_count": null,
      "outputs": [
        {
          "output_type": "stream",
          "name": "stdout",
          "text": [
            "     col1  col2\n",
            "1    John     2\n",
            "3     Joy     4\n",
            "4  Joseph    10\n"
          ]
        }
      ]
    },
    {
      "cell_type": "markdown",
      "source": [
        "**Invoice data keyword based slicing**\n",
        "\n",
        "> keywords ( 0 to sale, sale to subtotal, subtotal to -1)\n",
        "\n"
      ],
      "metadata": {
        "id": "j4HfEcc9X8JN"
      }
    },
    {
      "cell_type": "code",
      "source": [
        "import pandas as pd\n",
        "\n",
        "# reading the csv file\n",
        "df = pd.read_csv(\"invoicetext.csv\")\n",
        "#print(df)\n",
        "var = df['Text']\n",
        "var\n",
        "a = []\n",
        "g = []\n",
        "k = []\n",
        "#print(var)\n",
        "for x in var:\n",
        "  #print(x)\n",
        "  c = x.index(\"REGULAR SALE\")\n",
        "  #print(x[0:c]+']')\n",
        "  b = x[0:c-1]\n",
        "  a.append(b)\n",
        "  print(b+']')\n",
        "  e = x.index(\"Subtotal\")\n",
        "  #print('['+x[e:])\n",
        "  h = x[e-1:]\n",
        "  g.append(h)\n",
        "  print('['+h)\n",
        "  #print('['+x[c:e]+']')\n",
        "  m = x[c-1:e-1]\n",
        "  k.append(m)\n",
        "  print('['+m+']')\n",
        "\n",
        "# print(x)\n",
        "# print(a)\n",
        "# print(g)\n",
        "# print(k)"
      ],
      "metadata": {
        "colab": {
          "base_uri": "https://localhost:8080/"
        },
        "id": "ZvI7v6z96m_V",
        "outputId": "fa62532d-7b9d-480b-f990-b90c75a0c48c"
      },
      "execution_count": null,
      "outputs": [
        {
          "output_type": "stream",
          "name": "stdout",
          "text": [
            "['HomeGoods', 'THE VILLAGE @ CINCO RANCH', '23518 WESTHEIMER PARKWAY', 'KATY, TX 77494', 'United States', '281-574-1720', ]\n",
            "['Subtotal', '$91.90', 'TX 8.250% Sales Tax', '$7.58', 'Total', '$99.48', 'Gift Card', '$81.17', '9526', 'Entry Method: Swiped', 'Balance: $0.00', 'VISA', '$18.31', 'TRANSACTION RECORD', '2876', 'PURCHASE', 'EXPIRES **/** CHIP', 'AUTH# 94639D', 'AID A0000000031010', 'APPLICATION LABEL VISA CREDIT', 'Signature Captured', '000527', '00200061', '20:23:32', 'APPROVED', 'Change', '$0.00', 'HomeGoods VALUES YOUR FEEDBACK! ! !', 'Tell us what you think about', 'your store visit today and', 'enter a monthly drawing to win a', '$500 HomeGoods Gift Card!', 'Visit www.HOMEGOODSFEEDBACK.com', 'Respond by 9/21/22']\n",
            "['REGULAR SALE', '41 - KITCHEN/ACCESS 392204', '$7.99 T', '41 - KITCHEN/ACCESS 403389', '$5.99 T', '41 - KITCHEN/ACCESS 408621', '$7.99 T', '41 - KITCHEN/ACCESS 408621', '$7.99 T', '36 - TOWELS', '096504', '$8.99 T', '36 - TOWELS', '096504', '$8.99 T', '36 - TOWELS', '096508', '$12.99 T', '56 - Q LINE', '012004', '$4.99 T', '31 - DINNERWARE/CER 538462', '$12.99 T', '31 - DINNERWARE/CER 538459', '$12.99 T', ]\n",
            "['HomeGoods', 'GRAND MORTON TOWN CENTER', '2732 WEST GRAND PKWY N', 'KATY, TX 77449', 'United States', '281-665-4300', ]\n",
            "['Subtotal', '$15.00', 'TX 8.250% Sales Tax', '$1.24', 'Total', '$16.24', 'Gift Card', '$16.24', '9526', 'Entry Method: Swiped', 'Balance: $81.17', 'Change', '$0.00', 'HOMEGOODS VALUES YOUR FEEDBACK!!!!', 'Tell us what you think about', 'your store visit today and', 'enter a monthly drawing to win a', '$500 HomeGoods Gift Card!', 'Visit www.HOHEGOODSFEEDBACK.com', 'Respond by 9/11/22', 'You will need to reference', 'your receipt', 'Survey number: 1011026519', 'SEE WEBSITE FOR COMPLETE RULES', 'Sold Item Count = 1', '01131KYN611411ELP4AWR4Q', '281011 2 6519 08/28/2022 18:56:03', '1053', 'Customer Copy', 'THANK YOU FOR SHOPPING AT HOMEGOODS']\n",
            "['REGULAR SALE', '35- CANDLES', '252897', '$15.00 T', ]\n"
          ]
        }
      ]
    },
    {
      "cell_type": "markdown",
      "source": [
        "**Invoice table detecions**\n",
        " \n",
        " filtering till subtotal"
      ],
      "metadata": {
        "id": "PF6mvIKpYXTN"
      }
    },
    {
      "cell_type": "code",
      "source": [
        "import pandas as pd\n",
        "import csv\n",
        "with open('table1.csv', encoding='utf-8-sig') as csvfile:\n",
        "    reader = csv.reader(csvfile)\n",
        "    count = 0\n",
        "    fsa=[]\n",
        "    a=[]\n",
        "    for row in reader:\n",
        "        count = count+1\n",
        "        #print(row[2])\n",
        "        fsa.append(row[1])\n",
        "        a.append(row[2])\n",
        "print(fsa[0:])\n",
        "print(a[0:])\n",
        "\n",
        "fruits = fsa[0:]\n",
        "\n",
        "x = fruits.count(\"Subtotal\")\n",
        "x+=1\n",
        "x\n",
        "type(x)\n",
        "\n",
        "fsa[0:x]\n",
        "a[0:x]\n",
        "\n",
        "df = pd.DataFrame({'Line_ItemName': fsa[0:x],\n",
        "                  'Subtotal': a[0:x]})\n",
        "#df\n",
        "df.to_csv(\"output.csv\", index=None)"
      ],
      "metadata": {
        "colab": {
          "base_uri": "https://localhost:8080/"
        },
        "id": "RKPrbR4-USFu",
        "outputId": "a0770937-9e41-46b1-d2f3-658dfcb62cb1"
      },
      "execution_count": null,
      "outputs": [
        {
          "output_type": "stream",
          "name": "stdout",
          "text": [
            "['35- CANDLES 252897', 'Subtotal', 'TX 8.250% Sales Tax', 'Total', 'Gift Card 9526 Entry Method: Swiped Balance: $81.17', 'Change']\n",
            "['$15.00 T', '$15.00', '$1.24', '$16.24', '$16.24', '$0.00']\n"
          ]
        }
      ]
    },
    {
      "cell_type": "code",
      "source": [
        "import pandas as pd\n",
        "import csv\n",
        "with open('output.csv', encoding='utf-8-sig') as csvfile:\n",
        "    reader = csv.reader(csvfile)\n",
        "    count = 0\n",
        "    a=[]\n",
        "    b=[]\n",
        "    for row in reader:\n",
        "        count = count+1\n",
        "        #print(row[2])\n",
        "        a.append(row[0])\n",
        "        b.append(row[1])\n",
        "print(a[1:])\n",
        "print(b[1:])\n",
        "\n",
        "# for x in a:\n",
        "#   s = slice(12)\n",
        "#   #print(x[s])\n",
        "\n",
        "df = pd.read_csv(\"output.csv\")\n",
        "#print(df)\n",
        "var = df['Line_ItemName'].tolist()\n",
        "var\n",
        "h = []\n",
        "for x in var:\n",
        "  s = slice(12)\n",
        "  #(x[s])\n",
        "  h.append(x[s])\n",
        "print(h)\n",
        "\n",
        "df = pd.read_csv(\"output.csv\")\n",
        "#print(df)\n",
        "df = pd.read_csv(\"output.csv\")\n",
        "#print(df)\n",
        "vars = df['Subtotal'].tolist()\n",
        "vars\n",
        "g = []\n",
        "for x in vars:\n",
        "  s = slice(6)\n",
        "  #print(x[s][1:])\n",
        "  g.append(x[s][1:])\n",
        "print(g)\n",
        "e = var.index(\"Subtotal\")\n",
        "#print(e)\n",
        "print(var[0:e])\n",
        "print(vars[0:e])"
      ],
      "metadata": {
        "colab": {
          "base_uri": "https://localhost:8080/"
        },
        "id": "mXQMi586Tust",
        "outputId": "53af83b0-a4bf-4a01-b37e-877fcd3f61b9"
      },
      "execution_count": null,
      "outputs": [
        {
          "output_type": "stream",
          "name": "stdout",
          "text": [
            "['35- CANDLES 252897', 'Subtotal']\n",
            "['$15.00 T', '$15.00']\n",
            "['35- CANDLES ', 'Subtotal']\n",
            "['15.00', '15.00']\n",
            "['35- CANDLES 252897']\n",
            "['$15.00 T']\n"
          ]
        }
      ]
    },
    {
      "cell_type": "code",
      "source": [
        "import pandas as pd\n",
        "import csv\n",
        "with open('table2.csv', encoding='utf-8-sig') as csvfile:\n",
        "    reader = csv.reader(csvfile)\n",
        "    count = 0\n",
        "    fsa=[]\n",
        "    a=[]\n",
        "    for row in reader:\n",
        "        count = count+1\n",
        "        #print(row[2])\n",
        "        fsa.append(row[1])\n",
        "        a.append(row[3])\n",
        "print(fsa[0:])\n",
        "print(a[0:])\n",
        "\n",
        "\n",
        "df = pd.DataFrame({'Line_ItemName': fsa[0:],\n",
        "                  'Subtotal': a[0:]})\n",
        "#df\n",
        "df.to_csv(\"outputs.csv\", index=None)"
      ],
      "metadata": {
        "colab": {
          "base_uri": "https://localhost:8080/"
        },
        "id": "Jq0Ud9-bYwt3",
        "outputId": "bf1844fd-267f-4c94-9a17-bb2efadcbdd0"
      },
      "execution_count": null,
      "outputs": [
        {
          "output_type": "stream",
          "name": "stdout",
          "text": [
            "['41 - KITCHEN/ACCESS', '41 - KITCHEN/ACCESS', '41 - KITCHEN/ACCESS', '41 - KITCHEN/ACCESS', '36 - TOWELS', '36 - TOWELS', '36 - TOWELS', '56 - Q LINE', '31 - DINNERWARE/CER', '31 - DINNERWARE/CER']\n",
            "['$7.99 T', '$5.99 T', '$7.99 T', '$7.99 T', '$8.99 T', '$8.99 T', '$12.99 T', '$4.99 T', '$12.99 T', '$12.99 T']\n"
          ]
        }
      ]
    },
    {
      "cell_type": "code",
      "source": [
        "import pandas as pd\n",
        "import csv\n",
        "with open('outputs.csv', encoding='utf-8-sig') as csvfile:\n",
        "    reader = csv.reader(csvfile)\n",
        "    count = 0\n",
        "    a=[]\n",
        "    b=[]\n",
        "    for row in reader:\n",
        "        count = count+1\n",
        "        #print(row[2])\n",
        "        a.append(row[0])\n",
        "        b.append(row[1])\n",
        "print(a[1:])\n",
        "print(b[1:])\n",
        "\n",
        "# for x in a:\n",
        "#   s = slice(12)\n",
        "#   #print(x[s])\n",
        "\n",
        "df = pd.read_csv(\"outputs.csv\")\n",
        "#print(df)\n",
        "var = df['Line_ItemName'].tolist()\n",
        "var\n",
        "h = []\n",
        "for x in var:\n",
        "  s = slice(12)\n",
        "  #(x[s])\n",
        "  h.append(x[s])\n",
        "print(h)\n",
        "\n",
        "df = pd.read_csv(\"outputs.csv\")\n",
        "#print(df)\n",
        "df = pd.read_csv(\"outputs.csv\")\n",
        "#print(df)\n",
        "vars = df['Subtotal'].tolist()\n",
        "vars\n",
        "g = []\n",
        "for x in vars:\n",
        "  s = slice(6)\n",
        "  #print(x[s][1:])\n",
        "  g.append(x[s][1:])\n",
        "print(g)\n",
        "# e = var.index(\"Subtotal\")\n",
        "\n",
        "# #print(e)\n",
        "# print(var[0:e])\n",
        "# print(vars[0:e])"
      ],
      "metadata": {
        "colab": {
          "base_uri": "https://localhost:8080/"
        },
        "id": "ZaQpgOsvY-ZB",
        "outputId": "77924a63-2c22-418f-ae40-54e221992e4a"
      },
      "execution_count": null,
      "outputs": [
        {
          "output_type": "stream",
          "name": "stdout",
          "text": [
            "['41 - KITCHEN/ACCESS', '41 - KITCHEN/ACCESS', '41 - KITCHEN/ACCESS', '41 - KITCHEN/ACCESS', '36 - TOWELS', '36 - TOWELS', '36 - TOWELS', '56 - Q LINE', '31 - DINNERWARE/CER', '31 - DINNERWARE/CER']\n",
            "['$7.99 T', '$5.99 T', '$7.99 T', '$7.99 T', '$8.99 T', '$8.99 T', '$12.99 T', '$4.99 T', '$12.99 T', '$12.99 T']\n",
            "['41 - KITCHEN', '41 - KITCHEN', '41 - KITCHEN', '41 - KITCHEN', '36 - TOWELS', '36 - TOWELS', '36 - TOWELS', '56 - Q LINE', '31 - DINNERW', '31 - DINNERW']\n",
            "['7.99 ', '5.99 ', '7.99 ', '7.99 ', '8.99 ', '8.99 ', '12.99', '4.99 ', '12.99', '12.99']\n"
          ]
        }
      ]
    },
    {
      "cell_type": "code",
      "source": [
        "data = pd.DataFrame({'A': '['+h,\n",
        "                   }, index=[0])\n",
        "\n",
        "df_filtered = data[data.A.str.startswith(\"-\", na = False)]\n",
        "print(df_filtered)"
      ],
      "metadata": {
        "colab": {
          "base_uri": "https://localhost:8080/"
        },
        "id": "PVr51PPnZ-8r",
        "outputId": "36ca3f34-cc4f-43d0-ae3f-ba4c0dc03641"
      },
      "execution_count": null,
      "outputs": [
        {
          "output_type": "stream",
          "name": "stdout",
          "text": [
            "Empty DataFrame\n",
            "Columns: [A]\n",
            "Index: []\n"
          ]
        }
      ]
    },
    {
      "cell_type": "code",
      "source": [
        "import pandas as pd\n",
        "import re\n",
        "# reading the csv file\n",
        "df = pd.read_csv(\"invoicetext.csv\")\n",
        "#print(df)\n",
        "var = df['Text']\n",
        "var\n",
        "a = []\n",
        "g = []\n",
        "k = []\n",
        "#print(var)\n",
        "for x in var:\n",
        "  #print(x)\n",
        "  c = x.index(\"REGULAR SALE\")\n",
        "  #print(x[0:c]+']')\n",
        "  b = x[0:c-1]\n",
        "  a.append(b)\n",
        "  print(b+']')\n",
        "  e = x.index(\"Subtotal\")\n",
        "  #print('['+x[e:])\n",
        "  h = x[e-1:]\n",
        "  g.append(h)\n",
        "  print('['+h)\n",
        "  #print('['+x[c:e]+']')\n",
        "  m = x[c-1:e-1]\n",
        "  k.append(m)\n",
        "  print('['+m+']')\n",
        "  f = re.findall('(\\S+):(\\S+)',x)\n",
        "  print(f)\n",
        "\n",
        "# print(x)\n",
        "# print(a)\n",
        "# print(g)\n",
        "# print(k)"
      ],
      "metadata": {
        "colab": {
          "base_uri": "https://localhost:8080/"
        },
        "id": "M2rMl6nCAnMR",
        "outputId": "7d7dba29-1fdb-451b-a52c-7b035315000c"
      },
      "execution_count": null,
      "outputs": [
        {
          "output_type": "stream",
          "name": "stdout",
          "text": [
            "['HomeGoods', 'THE VILLAGE @ CINCO RANCH', '23518 WESTHEIMER PARKWAY', 'KATY, TX 77494', 'United States', '281-574-1720', ]\n",
            "['Subtotal', '$91.90', 'TX 8.250% Sales Tax', '$7.58', 'Total', '$99.48', 'Gift Card', '$81.17', '9526', 'Entry Method: Swiped', 'Balance: $0.00', 'VISA', '$18.31', 'TRANSACTION RECORD', '2876', 'PURCHASE', 'EXPIRES **/** CHIP', 'AUTH# 94639D', 'AID A0000000031010', 'APPLICATION LABEL VISA CREDIT', 'Signature Captured', '000527', '00200061', '20:23:32', 'APPROVED', 'Change', '$0.00', 'HomeGoods VALUES YOUR FEEDBACK! ! !', 'Tell us what you think about', 'your store visit today and', 'enter a monthly drawing to win a', '$500 HomeGoods Gift Card!', 'Visit www.HOMEGOODSFEEDBACK.com', 'Respond by 9/21/22']\n",
            "['REGULAR SALE', '41 - KITCHEN/ACCESS 392204', '$7.99 T', '41 - KITCHEN/ACCESS 403389', '$5.99 T', '41 - KITCHEN/ACCESS 408621', '$7.99 T', '41 - KITCHEN/ACCESS 408621', '$7.99 T', '36 - TOWELS', '096504', '$8.99 T', '36 - TOWELS', '096504', '$8.99 T', '36 - TOWELS', '096508', '$12.99 T', '56 - Q LINE', '012004', '$4.99 T', '31 - DINNERWARE/CER 538462', '$12.99 T', '31 - DINNERWARE/CER 538459', '$12.99 T', ]\n",
            "[(\"'20:23\", \"32',\")]\n",
            "['HomeGoods', 'GRAND MORTON TOWN CENTER', '2732 WEST GRAND PKWY N', 'KATY, TX 77449', 'United States', '281-665-4300', ]\n",
            "['Subtotal', '$15.00', 'TX 8.250% Sales Tax', '$1.24', 'Total', '$16.24', 'Gift Card', '$16.24', '9526', 'Entry Method: Swiped', 'Balance: $81.17', 'Change', '$0.00', 'HOMEGOODS VALUES YOUR FEEDBACK!!!!', 'Tell us what you think about', 'your store visit today and', 'enter a monthly drawing to win a', '$500 HomeGoods Gift Card!', 'Visit www.HOHEGOODSFEEDBACK.com', 'Respond by 9/11/22', 'You will need to reference', 'your receipt', 'Survey number: 1011026519', 'SEE WEBSITE FOR COMPLETE RULES', 'Sold Item Count = 1', '01131KYN611411ELP4AWR4Q', '281011 2 6519 08/28/2022 18:56:03', '1053', 'Customer Copy', 'THANK YOU FOR SHOPPING AT HOMEGOODS']\n",
            "['REGULAR SALE', '35- CANDLES', '252897', '$15.00 T', ]\n",
            "[('18:56', \"03',\")]\n"
          ]
        }
      ]
    },
    {
      "cell_type": "code",
      "source": [
        "import pandas as pd\n",
        "import re\n",
        "# reading the csv file\n",
        "df = pd.read_csv(\"invoicetext.csv\")\n",
        "#print(df)\n",
        "var = df['Text']\n",
        "var\n",
        "a = []\n",
        "g = []\n",
        "k = []\n",
        "j = []\n",
        "#print(var)\n",
        "for x in var:\n",
        "  #print(x)\n",
        "  c = x.index(\"REGULAR SALE\")\n",
        "  #print(x[0:c]+']')\n",
        "  b = x[0:c-1]\n",
        "  a.append(b)\n",
        "  print(b+']')\n",
        "  e = x.index(\"Subtotal\")\n",
        "  #print('['+x[e:])\n",
        "  h = x[e-1:]\n",
        "  g.append(h)\n",
        "  print('['+h)\n",
        "  #print('['+x[c:e]+']')\n",
        "  m = x[c-1:e-1]\n",
        "  k.append(m)\n",
        "  #print('['+m+']')\n",
        "  n = '['+m+']'\n",
        "  print(n)\n",
        "  j.append(n)\n",
        "  f = re.findall('(\\S+):(\\S+)',x)\n",
        "  print(f)\n",
        "  # h = re.findall('(\\d+)',x)\n",
        "  # print(h)\n",
        "print(j)"
      ],
      "metadata": {
        "colab": {
          "base_uri": "https://localhost:8080/"
        },
        "id": "aSmIpX3XLUny",
        "outputId": "368f502b-a5c9-4500-8aac-590524928b4c"
      },
      "execution_count": null,
      "outputs": [
        {
          "output_type": "stream",
          "name": "stdout",
          "text": [
            "['HomeGoods', 'THE VILLAGE @ CINCO RANCH', '23518 WESTHEIMER PARKWAY', 'KATY, TX 77494', 'United States', '281-574-1720', ]\n",
            "['Subtotal', '$91.90', 'TX 8.250% Sales Tax', '$7.58', 'Total', '$99.48', 'Gift Card', '$81.17', '9526', 'Entry Method: Swiped', 'Balance: $0.00', 'VISA', '$18.31', 'TRANSACTION RECORD', '2876', 'PURCHASE', 'EXPIRES **/** CHIP', 'AUTH# 94639D', 'AID A0000000031010', 'APPLICATION LABEL VISA CREDIT', 'Signature Captured', '000527', '00200061', '20:23:32', 'APPROVED', 'Change', '$0.00', 'HomeGoods VALUES YOUR FEEDBACK! ! !', 'Tell us what you think about', 'your store visit today and', 'enter a monthly drawing to win a', '$500 HomeGoods Gift Card!', 'Visit www.HOMEGOODSFEEDBACK.com', 'Respond by 9/21/22']\n",
            "['REGULAR SALE', '41 - KITCHEN/ACCESS 392204', '$7.99 T', '41 - KITCHEN/ACCESS 403389', '$5.99 T', '41 - KITCHEN/ACCESS 408621', '$7.99 T', '41 - KITCHEN/ACCESS 408621', '$7.99 T', '36 - TOWELS', '096504', '$8.99 T', '36 - TOWELS', '096504', '$8.99 T', '36 - TOWELS', '096508', '$12.99 T', '56 - Q LINE', '012004', '$4.99 T', '31 - DINNERWARE/CER 538462', '$12.99 T', '31 - DINNERWARE/CER 538459', '$12.99 T', ]\n",
            "[(\"'20:23\", \"32',\")]\n",
            "['HomeGoods', 'GRAND MORTON TOWN CENTER', '2732 WEST GRAND PKWY N', 'KATY, TX 77449', 'United States', '281-665-4300', ]\n",
            "['Subtotal', '$15.00', 'TX 8.250% Sales Tax', '$1.24', 'Total', '$16.24', 'Gift Card', '$16.24', '9526', 'Entry Method: Swiped', 'Balance: $81.17', 'Change', '$0.00', 'HOMEGOODS VALUES YOUR FEEDBACK!!!!', 'Tell us what you think about', 'your store visit today and', 'enter a monthly drawing to win a', '$500 HomeGoods Gift Card!', 'Visit www.HOHEGOODSFEEDBACK.com', 'Respond by 9/11/22', 'You will need to reference', 'your receipt', 'Survey number: 1011026519', 'SEE WEBSITE FOR COMPLETE RULES', 'Sold Item Count = 1', '01131KYN611411ELP4AWR4Q', '281011 2 6519 08/28/2022 18:56:03', '1053', 'Customer Copy', 'THANK YOU FOR SHOPPING AT HOMEGOODS']\n",
            "['REGULAR SALE', '35- CANDLES', '252897', '$15.00 T', ]\n",
            "[('18:56', \"03',\")]\n",
            "[\"['REGULAR SALE', '41 - KITCHEN/ACCESS 392204', '$7.99 T', '41 - KITCHEN/ACCESS 403389', '$5.99 T', '41 - KITCHEN/ACCESS 408621', '$7.99 T', '41 - KITCHEN/ACCESS 408621', '$7.99 T', '36 - TOWELS', '096504', '$8.99 T', '36 - TOWELS', '096504', '$8.99 T', '36 - TOWELS', '096508', '$12.99 T', '56 - Q LINE', '012004', '$4.99 T', '31 - DINNERWARE/CER 538462', '$12.99 T', '31 - DINNERWARE/CER 538459', '$12.99 T', ]\", \"['REGULAR SALE', '35- CANDLES', '252897', '$15.00 T', ]\"]\n"
          ]
        }
      ]
    },
    {
      "cell_type": "code",
      "source": [
        "type(j)"
      ],
      "metadata": {
        "colab": {
          "base_uri": "https://localhost:8080/"
        },
        "id": "vyF0LPAWNiae",
        "outputId": "e458c5db-7b1b-46ba-ebc9-668a473e060c"
      },
      "execution_count": null,
      "outputs": [
        {
          "output_type": "execute_result",
          "data": {
            "text/plain": [
              "list"
            ]
          },
          "metadata": {},
          "execution_count": 159
        }
      ]
    },
    {
      "cell_type": "code",
      "source": [
        "data = pd.DataFrame(j, columns =['Names'])\n",
        "data.to_csv('test.csv', index=False)\n",
        "import pandas as pd\n",
        "\n",
        "dff = pd.read_csv('test.csv')\n",
        "\n",
        "print(dff.to_string()) \n",
        "# df_filtered = dff.query(\"Names == '$'\")\n",
        "# print(df_filtered)"
      ],
      "metadata": {
        "colab": {
          "base_uri": "https://localhost:8080/"
        },
        "id": "bHyYamq2M6ew",
        "outputId": "323e48b9-c0c4-4d81-f875-995a8af9dc76"
      },
      "execution_count": null,
      "outputs": [
        {
          "output_type": "stream",
          "name": "stdout",
          "text": [
            "                                                                                                                                                                                                                                                                                                                                                                                                                         Names\n",
            "0  ['REGULAR SALE', '41 - KITCHEN/ACCESS 392204', '$7.99 T', '41 - KITCHEN/ACCESS 403389', '$5.99 T', '41 - KITCHEN/ACCESS 408621', '$7.99 T', '41 - KITCHEN/ACCESS 408621', '$7.99 T', '36 - TOWELS', '096504', '$8.99 T', '36 - TOWELS', '096504', '$8.99 T', '36 - TOWELS', '096508', '$12.99 T', '56 - Q LINE', '012004', '$4.99 T', '31 - DINNERWARE/CER 538462', '$12.99 T', '31 - DINNERWARE/CER 538459', '$12.99 T', ]\n",
            "1                                                                                                                                                                                                                                                                                                                                                                      ['REGULAR SALE', '35- CANDLES', '252897', '$15.00 T', ]\n"
          ]
        }
      ]
    },
    {
      "cell_type": "code",
      "source": [
        "df = pd.read_csv(\"test.csv\")\n",
        "#print(df)\n",
        "var = df['Names']\n",
        "var\n",
        "a = []\n",
        "g = []\n",
        "k = []\n",
        "#print(var)\n",
        "for x in var:\n",
        "  print(x)\n",
        "  #data.to_csv('tdata.csv', index=False)"
      ],
      "metadata": {
        "colab": {
          "base_uri": "https://localhost:8080/"
        },
        "id": "hU5y3P4WQK8V",
        "outputId": "275f7e34-ec14-4d20-a727-629db052ef92"
      },
      "execution_count": null,
      "outputs": [
        {
          "output_type": "stream",
          "name": "stdout",
          "text": [
            "['REGULAR SALE', '41 - KITCHEN/ACCESS 392204', '$7.99 T', '41 - KITCHEN/ACCESS 403389', '$5.99 T', '41 - KITCHEN/ACCESS 408621', '$7.99 T', '41 - KITCHEN/ACCESS 408621', '$7.99 T', '36 - TOWELS', '096504', '$8.99 T', '36 - TOWELS', '096504', '$8.99 T', '36 - TOWELS', '096508', '$12.99 T', '56 - Q LINE', '012004', '$4.99 T', '31 - DINNERWARE/CER 538462', '$12.99 T', '31 - DINNERWARE/CER 538459', '$12.99 T', ]\n",
            "['REGULAR SALE', '35- CANDLES', '252897', '$15.00 T', ]\n"
          ]
        }
      ]
    },
    {
      "cell_type": "code",
      "source": [
        "data = pd.DataFrame([[\"A\", 1], [\"A\", 2], [\"B\", 1], \n",
        "                     [\"C\", 4], [\"A\", 10], [\"B\", 7]], columns = [\"col1\", \"col2\"])\n",
        "data.to_csv('test.csv', index=False)\n",
        "import pandas as pd\n",
        "\n",
        "dff = pd.read_csv('test.csv')\n",
        "\n",
        "print(dff.to_string()) \n",
        "df_filtered = dff.query(\"col1 == 'A' | col2 == 'B'\")\n",
        "print(df_filtered)"
      ],
      "metadata": {
        "colab": {
          "base_uri": "https://localhost:8080/"
        },
        "id": "bozKQU0oMDcy",
        "outputId": "8e76cee6-4e5a-460d-85b6-4c1074ebd8db"
      },
      "execution_count": null,
      "outputs": [
        {
          "output_type": "stream",
          "name": "stdout",
          "text": [
            "  col1  col2\n",
            "0    A     1\n",
            "1    A     2\n",
            "2    B     1\n",
            "3    C     4\n",
            "4    A    10\n",
            "5    B     7\n",
            "  col1  col2\n",
            "0    A     1\n",
            "1    A     2\n",
            "4    A    10\n"
          ]
        }
      ]
    },
    {
      "cell_type": "code",
      "source": [
        "data = pd.DataFrame([[\"A\", 1], [\"A\", 2], [\"B\", 1], \n",
        "                     [\"C\", 4], [\"A\", 10], [\"B\", 7]], columns = [\"col1\", \"col2\"])\n",
        "data.to_csv('test.csv', index=False)\n",
        "import pandas as pd\n",
        "\n",
        "dff = pd.read_csv('test.csv')\n",
        "\n",
        "print(dff.to_string()) \n",
        "df_filtered = dff.query(\"col1 == 'A' | col2 == 'B'\")\n",
        "print(df_filtered)"
      ],
      "metadata": {
        "id": "U9bGU3coMzX5"
      },
      "execution_count": null,
      "outputs": []
    },
    {
      "cell_type": "code",
      "source": [
        "import pandas as pd\n",
        "import re\n",
        "# reading the csv file\n",
        "df = pd.read_csv(\"invoicetext.csv\")\n",
        "#print(df)\n",
        "var = df['Text']\n",
        "var\n",
        "print(var)\n",
        "def Filter(datalist):\n",
        "    # Search data based on regular expression in the list\n",
        "    return [val for val in datalist\n",
        "        if re.search(r'\\s([0-9A-Z]+\\w*\\s+\\S*?[Aa]lloy)\\s', val)]\n",
        "\n",
        "# Print the filter data\n",
        "for x in var:\n",
        "  print(x)\n",
        "  print(Filter(x))\n",
        "\n"
      ],
      "metadata": {
        "colab": {
          "base_uri": "https://localhost:8080/"
        },
        "id": "Nm6SQPalJfTW",
        "outputId": "c8c63cf4-6943-4ea4-e89f-f18497c8514c"
      },
      "execution_count": null,
      "outputs": [
        {
          "output_type": "stream",
          "name": "stdout",
          "text": [
            "0    ['HomeGoods', 'THE VILLAGE @ CINCO RANCH', '23...\n",
            "1    ['HomeGoods', 'GRAND MORTON TOWN CENTER', '273...\n",
            "Name: Text, dtype: object\n",
            "['HomeGoods', 'THE VILLAGE @ CINCO RANCH', '23518 WESTHEIMER PARKWAY', 'KATY, TX 77494', 'United States', '281-574-1720', 'REGULAR SALE', '41 - KITCHEN/ACCESS 392204', '$7.99 T', '41 - KITCHEN/ACCESS 403389', '$5.99 T', '41 - KITCHEN/ACCESS 408621', '$7.99 T', '41 - KITCHEN/ACCESS 408621', '$7.99 T', '36 - TOWELS', '096504', '$8.99 T', '36 - TOWELS', '096504', '$8.99 T', '36 - TOWELS', '096508', '$12.99 T', '56 - Q LINE', '012004', '$4.99 T', '31 - DINNERWARE/CER 538462', '$12.99 T', '31 - DINNERWARE/CER 538459', '$12.99 T', 'Subtotal', '$91.90', 'TX 8.250% Sales Tax', '$7.58', 'Total', '$99.48', 'Gift Card', '$81.17', '9526', 'Entry Method: Swiped', 'Balance: $0.00', 'VISA', '$18.31', 'TRANSACTION RECORD', '2876', 'PURCHASE', 'EXPIRES **/** CHIP', 'AUTH# 94639D', 'AID A0000000031010', 'APPLICATION LABEL VISA CREDIT', 'Signature Captured', '000527', '00200061', '20:23:32', 'APPROVED', 'Change', '$0.00', 'HomeGoods VALUES YOUR FEEDBACK! ! !', 'Tell us what you think about', 'your store visit today and', 'enter a monthly drawing to win a', '$500 HomeGoods Gift Card!', 'Visit www.HOMEGOODSFEEDBACK.com', 'Respond by 9/21/22']\n",
            "[]\n",
            "['HomeGoods', 'GRAND MORTON TOWN CENTER', '2732 WEST GRAND PKWY N', 'KATY, TX 77449', 'United States', '281-665-4300', 'REGULAR SALE', '35- CANDLES', '252897', '$15.00 T', 'Subtotal', '$15.00', 'TX 8.250% Sales Tax', '$1.24', 'Total', '$16.24', 'Gift Card', '$16.24', '9526', 'Entry Method: Swiped', 'Balance: $81.17', 'Change', '$0.00', 'HOMEGOODS VALUES YOUR FEEDBACK!!!!', 'Tell us what you think about', 'your store visit today and', 'enter a monthly drawing to win a', '$500 HomeGoods Gift Card!', 'Visit www.HOHEGOODSFEEDBACK.com', 'Respond by 9/11/22', 'You will need to reference', 'your receipt', 'Survey number: 1011026519', 'SEE WEBSITE FOR COMPLETE RULES', 'Sold Item Count = 1', '01131KYN611411ELP4AWR4Q', '281011 2 6519 08/28/2022 18:56:03', '1053', 'Customer Copy', 'THANK YOU FOR SHOPPING AT HOMEGOODS']\n",
            "[]\n"
          ]
        }
      ]
    },
    {
      "cell_type": "code",
      "source": [
        "# Import re module to use regular expression\n",
        "import re\n",
        " \n",
        "# Declare the list contains subject code\n",
        "sublist = ['CSE-407', 'PHY-101', 'CSE-101', 'ENG-102', 'MAT-202']\n",
        "\n",
        "# Declare the filter function\n",
        "def Filter(datalist):\n",
        "    # Search data based on regular expression in the list\n",
        "    return [val for val in datalist\n",
        "        if re.search(r'^CSE', val)]\n",
        "\n",
        "# Print the filter data\n",
        "print(Filter(sublist))"
      ],
      "metadata": {
        "colab": {
          "base_uri": "https://localhost:8080/"
        },
        "id": "nVRV9xqzFLuo",
        "outputId": "9ad90a2e-9b3e-4a4c-a3a0-11c2dd470510"
      },
      "execution_count": null,
      "outputs": [
        {
          "output_type": "stream",
          "name": "stdout",
          "text": [
            "['CSE-407', 'CSE-101']\n"
          ]
        }
      ]
    },
    {
      "cell_type": "code",
      "source": [
        "customers = ['Alice', 'Anne', 'Ann', 'Tom']\n",
        "pattern = 'A.*e'\n",
        "# Filter out all elements that match the pattern\n",
        "filtered = [x for x in customers if re.match(pattern, x)]\n",
        "print(filtered)"
      ],
      "metadata": {
        "colab": {
          "base_uri": "https://localhost:8080/"
        },
        "id": "REF5swuLLRcW",
        "outputId": "d57ca484-49f4-4e53-868e-8f52b1038bce"
      },
      "execution_count": null,
      "outputs": [
        {
          "output_type": "stream",
          "name": "stdout",
          "text": [
            "['Alice', 'Anne']\n"
          ]
        }
      ]
    },
    {
      "cell_type": "code",
      "source": [
        "#\n",
        "pattern = '\\s([0-9A-Z])'\n",
        "# Filter out all elements that match the pattern\n",
        "filtered = [x for x in m if re.match(pattern, x)]\n",
        "print(filtered)"
      ],
      "metadata": {
        "colab": {
          "base_uri": "https://localhost:8080/"
        },
        "id": "RsHzt-nqLuaA",
        "outputId": "607465f7-a64f-412f-fd28-eeceb124e8ec"
      },
      "execution_count": null,
      "outputs": [
        {
          "output_type": "stream",
          "name": "stdout",
          "text": [
            "[]\n"
          ]
        }
      ]
    },
    {
      "cell_type": "code",
      "source": [
        "import pandas as pd\n",
        "import re\n",
        "# reading the csv file\n",
        "df = pd.read_csv(\"invoicetext.csv\")\n",
        "#print(df)\n",
        "var = df['Text']\n",
        "var\n",
        "a = []\n",
        "g = []\n",
        "k = []\n",
        "#print(var)\n",
        "for x in var:\n",
        "  #print(x)\n",
        "  c = x.index(\"REGULAR SALE\")\n",
        "  #print(x[0:c]+']')\n",
        "  b = x[0:c-1]\n",
        "  a.append(b)\n",
        "  print(b+']')\n",
        "  e = x.index(\"Subtotal\")\n",
        "  #print('['+x[e:])\n",
        "  h = x[e-1:]\n",
        "  g.append(h)\n",
        "  print('['+h)\n",
        "  #print('['+x[c:e]+']')\n",
        "  m = x[c-1:e-1]\n",
        "  k.append(m)\n",
        "  print('['+m+']')\n",
        "  f = re.findall('(\\S+):(\\S+)',x)\n",
        "  print(f)\n",
        "  z = re.compile(r\"(\\b(\\w{0,1})\\b)|(\\b(\\d+)\\b)\")\n",
        "  #z =  re.sub(r\"(^|\\W)\\d+\", \"\", x)\n",
        "  r = z.sub('', m)\n",
        "  print(r.strip('$.'))\n"
      ],
      "metadata": {
        "colab": {
          "base_uri": "https://localhost:8080/"
        },
        "id": "9yc0TUo7MsqB",
        "outputId": "895a2aa1-c72d-4429-9c76-a2ade8381d34"
      },
      "execution_count": null,
      "outputs": [
        {
          "output_type": "stream",
          "name": "stdout",
          "text": [
            "['HomeGoods', 'THE VILLAGE @ CINCO RANCH', '23518 WESTHEIMER PARKWAY', 'KATY, TX 77494', 'United States', '281-574-1720', ]\n",
            "['Subtotal', '$91.90', 'TX 8.250% Sales Tax', '$7.58', 'Total', '$99.48', 'Gift Card', '$81.17', '9526', 'Entry Method: Swiped', 'Balance: $0.00', 'VISA', '$18.31', 'TRANSACTION RECORD', '2876', 'PURCHASE', 'EXPIRES **/** CHIP', 'AUTH# 94639D', 'AID A0000000031010', 'APPLICATION LABEL VISA CREDIT', 'Signature Captured', '000527', '00200061', '20:23:32', 'APPROVED', 'Change', '$0.00', 'HomeGoods VALUES YOUR FEEDBACK! ! !', 'Tell us what you think about', 'your store visit today and', 'enter a monthly drawing to win a', '$500 HomeGoods Gift Card!', 'Visit www.HOMEGOODSFEEDBACK.com', 'Respond by 9/21/22']\n",
            "['REGULAR SALE', '41 - KITCHEN/ACCESS 392204', '$7.99 T', '41 - KITCHEN/ACCESS 403389', '$5.99 T', '41 - KITCHEN/ACCESS 408621', '$7.99 T', '41 - KITCHEN/ACCESS 408621', '$7.99 T', '36 - TOWELS', '096504', '$8.99 T', '36 - TOWELS', '096504', '$8.99 T', '36 - TOWELS', '096508', '$12.99 T', '56 - Q LINE', '012004', '$4.99 T', '31 - DINNERWARE/CER 538462', '$12.99 T', '31 - DINNERWARE/CER 538459', '$12.99 T', ]\n",
            "[(\"'20:23\", \"32',\")]\n",
            "'REGULAR SALE', ' - KITCHEN/ACCESS ', '$. ', ' - KITCHEN/ACCESS ', '$. ', ' - KITCHEN/ACCESS ', '$. ', ' - KITCHEN/ACCESS ', '$. ', ' - TOWELS', '', '$. ', ' - TOWELS', '', '$. ', ' - TOWELS', '', '$. ', ' -  LINE', '', '$. ', ' - DINNERWARE/CER ', '$. ', ' - DINNERWARE/CER ', '$. ', \n",
            "['HomeGoods', 'GRAND MORTON TOWN CENTER', '2732 WEST GRAND PKWY N', 'KATY, TX 77449', 'United States', '281-665-4300', ]\n",
            "['Subtotal', '$15.00', 'TX 8.250% Sales Tax', '$1.24', 'Total', '$16.24', 'Gift Card', '$16.24', '9526', 'Entry Method: Swiped', 'Balance: $81.17', 'Change', '$0.00', 'HOMEGOODS VALUES YOUR FEEDBACK!!!!', 'Tell us what you think about', 'your store visit today and', 'enter a monthly drawing to win a', '$500 HomeGoods Gift Card!', 'Visit www.HOHEGOODSFEEDBACK.com', 'Respond by 9/11/22', 'You will need to reference', 'your receipt', 'Survey number: 1011026519', 'SEE WEBSITE FOR COMPLETE RULES', 'Sold Item Count = 1', '01131KYN611411ELP4AWR4Q', '281011 2 6519 08/28/2022 18:56:03', '1053', 'Customer Copy', 'THANK YOU FOR SHOPPING AT HOMEGOODS']\n",
            "['REGULAR SALE', '35- CANDLES', '252897', '$15.00 T', ]\n",
            "[('18:56', \"03',\")]\n",
            "'REGULAR SALE', '- CANDLES', '', '$. ', \n"
          ]
        }
      ]
    },
    {
      "cell_type": "code",
      "source": [
        "import pandas as pd\n",
        "import re\n",
        "# reading the csv file\n",
        "df = pd.read_csv(\"invoicetext.csv\")\n",
        "#print(df)\n",
        "var = df['Text']\n",
        "var\n",
        "a = []\n",
        "g = []\n",
        "k = []\n",
        "listing = []\n",
        "#print(var)\n",
        "for x in var:\n",
        "  #print(x)\n",
        "  c = x.index(\"REGULAR SALE\")\n",
        "  #print(x[0:c]+']')\n",
        "  b = x[0:c-1]\n",
        "  a.append(b)\n",
        "  print(b+']')\n",
        "  e = x.index(\"Subtotal\")\n",
        "  #print('['+x[e:])\n",
        "  h = x[e-1:]\n",
        "  g.append(h)\n",
        "  print('['+h)\n",
        "  #print('['+x[c:e]+']')\n",
        "  m = x[c-1:e-1]\n",
        "  k.append(m)\n",
        "  print('['+m+']')\n",
        "  n = '['+m+']'\n",
        "  z = re.compile(r\"(\\b(\\w{0,1})\\b)|(\\b(\\d+)\\b)\")\n",
        "  #z =  re.sub(r\"(^|\\W)\\d+\", \"\", x)\n",
        "  r = z.sub('', m)\n",
        "  print(r)\n",
        "  #y = [k for k in m if '$' in k]\n",
        "  y = list(filter(lambda k: '-' in k, m))\n",
        "  print(y)\n",
        "  w = [i for i in m if i=='$']\n",
        "  print(w)\n",
        "  u = list(filter(lambda x:x.endswith((\"$\")), n)) \n",
        "  print(u)\n",
        "  v = [word for word in n if word.endswith('$')]\n",
        "  print(v)\n",
        "  b = re.sub('[^\\d.,]' , '', n)\n",
        "  print('['+b+']')\n",
        "  listing.append(str(b))\n",
        "  j = re.sub('[^\\S,]' , '', n)\n",
        "  print(j)\n",
        "  #numbers = int(re.search(r'\\d+', n))\n",
        "  #print(numbers)\n",
        "  # filtered = filter(lambda num: num > 10000, listing)\n",
        "  # print(list(filtered))\n",
        "  # print(listing)"
      ],
      "metadata": {
        "colab": {
          "base_uri": "https://localhost:8080/"
        },
        "id": "XPSCDPRV61l9",
        "outputId": "c220e024-c08f-47b5-ee26-622e1d3d6c78"
      },
      "execution_count": null,
      "outputs": [
        {
          "output_type": "stream",
          "name": "stdout",
          "text": [
            "['HomeGoods', 'THE VILLAGE @ CINCO RANCH', '23518 WESTHEIMER PARKWAY', 'KATY, TX 77494', 'United States', '281-574-1720', ]\n",
            "['Subtotal', '$91.90', 'TX 8.250% Sales Tax', '$7.58', 'Total', '$99.48', 'Gift Card', '$81.17', '9526', 'Entry Method: Swiped', 'Balance: $0.00', 'VISA', '$18.31', 'TRANSACTION RECORD', '2876', 'PURCHASE', 'EXPIRES **/** CHIP', 'AUTH# 94639D', 'AID A0000000031010', 'APPLICATION LABEL VISA CREDIT', 'Signature Captured', '000527', '00200061', '20:23:32', 'APPROVED', 'Change', '$0.00', 'HomeGoods VALUES YOUR FEEDBACK! ! !', 'Tell us what you think about', 'your store visit today and', 'enter a monthly drawing to win a', '$500 HomeGoods Gift Card!', 'Visit www.HOMEGOODSFEEDBACK.com', 'Respond by 9/21/22']\n",
            "['REGULAR SALE', '41 - KITCHEN/ACCESS 392204', '$7.99 T', '41 - KITCHEN/ACCESS 403389', '$5.99 T', '41 - KITCHEN/ACCESS 408621', '$7.99 T', '41 - KITCHEN/ACCESS 408621', '$7.99 T', '36 - TOWELS', '096504', '$8.99 T', '36 - TOWELS', '096504', '$8.99 T', '36 - TOWELS', '096508', '$12.99 T', '56 - Q LINE', '012004', '$4.99 T', '31 - DINNERWARE/CER 538462', '$12.99 T', '31 - DINNERWARE/CER 538459', '$12.99 T', ]\n",
            "'REGULAR SALE', ' - KITCHEN/ACCESS ', '$. ', ' - KITCHEN/ACCESS ', '$. ', ' - KITCHEN/ACCESS ', '$. ', ' - KITCHEN/ACCESS ', '$. ', ' - TOWELS', '', '$. ', ' - TOWELS', '', '$. ', ' - TOWELS', '', '$. ', ' -  LINE', '', '$. ', ' - DINNERWARE/CER ', '$. ', ' - DINNERWARE/CER ', '$. ', \n",
            "['-', '-', '-', '-', '-', '-', '-', '-', '-', '-']\n",
            "['$', '$', '$', '$', '$', '$', '$', '$', '$', '$']\n",
            "['$', '$', '$', '$', '$', '$', '$', '$', '$', '$']\n",
            "['$', '$', '$', '$', '$', '$', '$', '$', '$', '$']\n",
            "[,41392204,7.99,41403389,5.99,41408621,7.99,41408621,7.99,36,096504,8.99,36,096504,8.99,36,096508,12.99,56,012004,4.99,31538462,12.99,31538459,12.99,]\n",
            "['REGULARSALE','41-KITCHEN/ACCESS392204','$7.99T','41-KITCHEN/ACCESS403389','$5.99T','41-KITCHEN/ACCESS408621','$7.99T','41-KITCHEN/ACCESS408621','$7.99T','36-TOWELS','096504','$8.99T','36-TOWELS','096504','$8.99T','36-TOWELS','096508','$12.99T','56-QLINE','012004','$4.99T','31-DINNERWARE/CER538462','$12.99T','31-DINNERWARE/CER538459','$12.99T',]\n",
            "['HomeGoods', 'GRAND MORTON TOWN CENTER', '2732 WEST GRAND PKWY N', 'KATY, TX 77449', 'United States', '281-665-4300', ]\n",
            "['Subtotal', '$15.00', 'TX 8.250% Sales Tax', '$1.24', 'Total', '$16.24', 'Gift Card', '$16.24', '9526', 'Entry Method: Swiped', 'Balance: $81.17', 'Change', '$0.00', 'HOMEGOODS VALUES YOUR FEEDBACK!!!!', 'Tell us what you think about', 'your store visit today and', 'enter a monthly drawing to win a', '$500 HomeGoods Gift Card!', 'Visit www.HOHEGOODSFEEDBACK.com', 'Respond by 9/11/22', 'You will need to reference', 'your receipt', 'Survey number: 1011026519', 'SEE WEBSITE FOR COMPLETE RULES', 'Sold Item Count = 1', '01131KYN611411ELP4AWR4Q', '281011 2 6519 08/28/2022 18:56:03', '1053', 'Customer Copy', 'THANK YOU FOR SHOPPING AT HOMEGOODS']\n",
            "['REGULAR SALE', '35- CANDLES', '252897', '$15.00 T', ]\n",
            "'REGULAR SALE', '- CANDLES', '', '$. ', \n",
            "['-']\n",
            "['$']\n",
            "['$']\n",
            "['$']\n",
            "[,35,252897,15.00,]\n",
            "['REGULARSALE','35-CANDLES','252897','$15.00T',]\n"
          ]
        }
      ]
    },
    {
      "cell_type": "code",
      "source": [
        "numbers = int(re.search(r'\\d+', n).group())\n",
        "print(numbers)\n",
        "\n",
        "if '$' in str(listing):\n",
        "  print(ok)"
      ],
      "metadata": {
        "colab": {
          "base_uri": "https://localhost:8080/"
        },
        "id": "hNBdl-OWHUMj",
        "outputId": "b9e3fd80-51bf-4811-aea7-e223e53b0b95"
      },
      "execution_count": null,
      "outputs": [
        {
          "output_type": "stream",
          "name": "stdout",
          "text": [
            "35\n"
          ]
        }
      ]
    },
    {
      "cell_type": "code",
      "source": [
        "my_list = ['abc-123', 'def-456', 'ghi-789', 'abc-456']\n",
        "type(my_list)\n",
        "#type(n)\n",
        "type(listing)"
      ],
      "metadata": {
        "colab": {
          "base_uri": "https://localhost:8080/"
        },
        "id": "SBH5A4mDJsbk",
        "outputId": "dfe76d35-82b4-44ec-c9be-8072b4a1d807"
      },
      "execution_count": null,
      "outputs": [
        {
          "output_type": "execute_result",
          "data": {
            "text/plain": [
              "list"
            ]
          },
          "metadata": {},
          "execution_count": 164
        }
      ]
    },
    {
      "cell_type": "code",
      "source": [
        "#my_list = ['abc-123', 'def-456', 'ghi-789', 'abc-456']\n",
        "\n",
        "for item in listing:\n",
        "    if (item.find('$')) != -1:\n",
        "        print (item)"
      ],
      "metadata": {
        "id": "D0xnYxv-Jald"
      },
      "execution_count": null,
      "outputs": []
    },
    {
      "cell_type": "code",
      "source": [],
      "metadata": {
        "id": "mD1eIfypJbdh"
      },
      "execution_count": null,
      "outputs": []
    },
    {
      "cell_type": "code",
      "source": [
        "#my_list = ['abc-123', 'def-456', 'ghi-789', 'abc-456']\n",
        "for item in j:\n",
        "    if '$' in item:\n",
        "       print(item)"
      ],
      "metadata": {
        "colab": {
          "base_uri": "https://localhost:8080/"
        },
        "id": "rKzPBEJsJKnk",
        "outputId": "5e1bb27b-63fa-4e5c-ee18-2a738cf12a46"
      },
      "execution_count": null,
      "outputs": [
        {
          "output_type": "stream",
          "name": "stdout",
          "text": [
            "$\n"
          ]
        }
      ]
    },
    {
      "cell_type": "code",
      "source": [
        "my_list = ['abc-123', 'def-456', 'ghi-789', 'abc-456']\n",
        "for item in my_list:\n",
        "    if 'abc' in item:\n",
        "       print(item)"
      ],
      "metadata": {
        "colab": {
          "base_uri": "https://localhost:8080/"
        },
        "id": "eDX-LP0qJIgb",
        "outputId": "fee61986-f76a-44cd-9439-454f35753cb8"
      },
      "execution_count": null,
      "outputs": [
        {
          "output_type": "stream",
          "name": "stdout",
          "text": [
            "abc-123\n",
            "abc-456\n"
          ]
        }
      ]
    },
    {
      "cell_type": "code",
      "source": [
        "# if you want only the numbers you could check the type of each element\n",
        "lst_numbers = [x for x in n if type(x).__name__ == \"int\" or type(x).__name__ == 'float']\n",
        "print(lst_numbers)\n",
        "# if you want only the strings you could check the type of each element\n",
        "  \n",
        "lst_strings = [x for x in n if type(x).__name__ == \"str\"]\n",
        "print(lst_strings)\n"
      ],
      "metadata": {
        "colab": {
          "base_uri": "https://localhost:8080/"
        },
        "id": "btG-YqKTBAZl",
        "outputId": "4f87fefc-b418-400e-beea-d985e4c65866"
      },
      "execution_count": null,
      "outputs": [
        {
          "output_type": "stream",
          "name": "stdout",
          "text": [
            "[]\n",
            "['[', \"'\", 'R', 'E', 'G', 'U', 'L', 'A', 'R', ' ', 'S', 'A', 'L', 'E', \"'\", ',', ' ', \"'\", '3', '5', '-', ' ', 'C', 'A', 'N', 'D', 'L', 'E', 'S', \"'\", ',', ' ', \"'\", '2', '5', '2', '8', '9', '7', \"'\", ',', ' ', \"'\", '$', '1', '5', '.', '0', '0', ' ', 'T', \"'\", ',', ' ', ']']\n"
          ]
        }
      ]
    },
    {
      "cell_type": "code",
      "source": [
        "a = [1, 9, 2, 10000, 3, 6]\n",
        "\n",
        "filtered = filter(lambda num: num > 5, a)\n",
        "print(list(filtered))\n",
        "a = [1, 9, 2, 10, 3, 6]\n",
        "\n",
        "filtered = filter(lambda num: num > 30000, a)\n",
        "print(list(filtered))\n"
      ],
      "metadata": {
        "colab": {
          "base_uri": "https://localhost:8080/"
        },
        "id": "PBMNcPES_1W-",
        "outputId": "f0b73664-4304-4f49-c9a7-53f62bd74448"
      },
      "execution_count": null,
      "outputs": [
        {
          "output_type": "stream",
          "name": "stdout",
          "text": [
            "[9, 10000, 6]\n",
            "[]\n"
          ]
        }
      ]
    },
    {
      "cell_type": "code",
      "source": [
        "lst = [1, 2,'a','b', 3.0]\n",
        "\n",
        "# if you want only the numbers you could check the type of each element\n",
        "lst_numbers = [x for x in lst if type(x).__name__ == \"int\" or type(x).__name__ == 'float']\n",
        "print(lst_numbers)\n",
        " # if you want only the strings you could check the type of each element\n",
        "lst_strings = [x for x in lst if type(x).__name__ == \"str\"]\n",
        "print(lst_strings)"
      ],
      "metadata": {
        "colab": {
          "base_uri": "https://localhost:8080/"
        },
        "id": "toEjJvDZ_xQC",
        "outputId": "0866a55f-1d61-4c1a-b28f-059aac15946c"
      },
      "execution_count": null,
      "outputs": [
        {
          "output_type": "stream",
          "name": "stdout",
          "text": [
            "[1, 2, 3.0]\n",
            "['a', 'b']\n"
          ]
        }
      ]
    },
    {
      "cell_type": "code",
      "source": [
        "def contains_number(string):\n",
        "    return True if set(string).intersection('0123456789') else False\n",
        "\n",
        "print(contains_number(n))"
      ],
      "metadata": {
        "colab": {
          "base_uri": "https://localhost:8080/"
        },
        "id": "d72UfIYyCin4",
        "outputId": "3efb5f3e-47a4-4089-f6b1-a55deb44a471"
      },
      "execution_count": null,
      "outputs": [
        {
          "output_type": "stream",
          "name": "stdout",
          "text": [
            "True\n"
          ]
        }
      ]
    },
    {
      "cell_type": "code",
      "source": [
        "b = re.sub('[^\\d.,]' , '', n)\n",
        "print(b)"
      ],
      "metadata": {
        "colab": {
          "base_uri": "https://localhost:8080/"
        },
        "id": "A0CUDujqDAMZ",
        "outputId": "c03c431a-b79b-41d7-8b99-1bbcf69062c7"
      },
      "execution_count": null,
      "outputs": [
        {
          "output_type": "stream",
          "name": "stdout",
          "text": [
            ",35,252897,15.00,\n"
          ]
        }
      ]
    }
  ]
}