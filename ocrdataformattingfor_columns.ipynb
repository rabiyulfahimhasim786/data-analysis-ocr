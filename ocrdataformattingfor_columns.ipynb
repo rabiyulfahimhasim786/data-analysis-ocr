{
  "nbformat": 4,
  "nbformat_minor": 0,
  "metadata": {
    "colab": {
      "provenance": []
    },
    "kernelspec": {
      "name": "python3",
      "display_name": "Python 3"
    },
    "language_info": {
      "name": "python"
    }
  },
  "cells": [
    {
      "cell_type": "markdown",
      "source": [
        "**Reference for Column readings**"
      ],
      "metadata": {
        "id": "3DZUbh64AEVR"
      }
    },
    {
      "cell_type": "code",
      "execution_count": null,
      "metadata": {
        "colab": {
          "base_uri": "https://localhost:8080/"
        },
        "id": "-hkOgIYt_700",
        "outputId": "f118ad0f-5e57-4d3c-f18a-09dcd888f71c"
      },
      "outputs": [
        {
          "output_type": "stream",
          "name": "stdout",
          "text": [
            "        name  score  age qualify_label\n",
            "0  Katherine     98   20           yes\n",
            "1      James     80   25           yes\n",
            "2      Emily     60   22            no\n",
            "3    Michael     85   24           yes\n",
            "4    Matthew     49   21            no\n",
            "5      Laura     92   20           yes\n",
            "Number of Rows:  6\n",
            "Number of Columns:  4\n"
          ]
        }
      ],
      "source": [
        "# importing pandas\n",
        "import pandas as pd\n",
        "result_data = {'name': ['Katherine', 'James', 'Emily',\n",
        "\t\t\t\t\t\t'Michael', 'Matthew', 'Laura'],\n",
        "\t\t\t'score': [98, 80, 60, 85, 49, 92],\n",
        "\t\t\t'age': [20, 25, 22, 24, 21, 20],\n",
        "\t\t\t'qualify_label': ['yes', 'yes', 'no',\n",
        "\t\t\t\t\t\t\t\t'yes', 'no', 'yes']}\n",
        "\n",
        "# creating dataframe\n",
        "df = pd.DataFrame(result_data, index=None)\n",
        "\n",
        "# computing number of rows\n",
        "rows = len(df.axes[0])\n",
        "\n",
        "# computing number of columns\n",
        "cols = len(df.axes[1])\n",
        "\n",
        "print(df)\n",
        "print(\"Number of Rows: \", rows)\n",
        "print(\"Number of Columns: \", cols)\n"
      ]
    },
    {
      "cell_type": "code",
      "source": [
        "if cols == 1:\n",
        "  print(cols)\n",
        "elif cols==2:\n",
        "  print('2')\n",
        "elif cols==3:\n",
        "  print('3')\n",
        "elif cols==4:\n",
        "  print('4')\n",
        "else:\n",
        "  print('5')"
      ],
      "metadata": {
        "colab": {
          "base_uri": "https://localhost:8080/"
        },
        "id": "UTYuo7OOAH9a",
        "outputId": "552676b9-65a1-4bb7-c342-17b858bf5e21"
      },
      "execution_count": null,
      "outputs": [
        {
          "output_type": "stream",
          "name": "stdout",
          "text": [
            "4\n"
          ]
        }
      ]
    },
    {
      "cell_type": "code",
      "source": [
        "import pandas as pd\n",
        "file = 'table2.csv'\n",
        "df =pd.read_csv(file)\n",
        "df"
      ],
      "metadata": {
        "colab": {
          "base_uri": "https://localhost:8080/",
          "height": 332
        },
        "id": "pQoG2dDv2LNU",
        "outputId": "ddc6e922-f1da-4bf4-e966-0e0d3a9c67cd"
      },
      "execution_count": 19,
      "outputs": [
        {
          "output_type": "execute_result",
          "data": {
            "text/plain": [
              "   Unnamed: 0  41 - KITCHEN/ACCESS  392204   $7.99 T\n",
              "0           1  41 - KITCHEN/ACCESS  403389   $5.99 T\n",
              "1           2  41 - KITCHEN/ACCESS  408621   $7.99 T\n",
              "2           3  41 - KITCHEN/ACCESS  408621   $7.99 T\n",
              "3           4          36 - TOWELS   96504   $8.99 T\n",
              "4           5          36 - TOWELS   96504   $8.99 T\n",
              "5           6          36 - TOWELS   96508  $12.99 T\n",
              "6           7          56 - Q LINE   12004   $4.99 T\n",
              "7           8  31 - DINNERWARE/CER  538462  $12.99 T\n",
              "8           9  31 - DINNERWARE/CER  538459  $12.99 T"
            ],
            "text/html": [
              "\n",
              "  <div id=\"df-3d3bc37a-8f06-4695-8493-5d4dbe7ed711\">\n",
              "    <div class=\"colab-df-container\">\n",
              "      <div>\n",
              "<style scoped>\n",
              "    .dataframe tbody tr th:only-of-type {\n",
              "        vertical-align: middle;\n",
              "    }\n",
              "\n",
              "    .dataframe tbody tr th {\n",
              "        vertical-align: top;\n",
              "    }\n",
              "\n",
              "    .dataframe thead th {\n",
              "        text-align: right;\n",
              "    }\n",
              "</style>\n",
              "<table border=\"1\" class=\"dataframe\">\n",
              "  <thead>\n",
              "    <tr style=\"text-align: right;\">\n",
              "      <th></th>\n",
              "      <th>Unnamed: 0</th>\n",
              "      <th>41 - KITCHEN/ACCESS</th>\n",
              "      <th>392204</th>\n",
              "      <th>$7.99 T</th>\n",
              "    </tr>\n",
              "  </thead>\n",
              "  <tbody>\n",
              "    <tr>\n",
              "      <th>0</th>\n",
              "      <td>1</td>\n",
              "      <td>41 - KITCHEN/ACCESS</td>\n",
              "      <td>403389</td>\n",
              "      <td>$5.99 T</td>\n",
              "    </tr>\n",
              "    <tr>\n",
              "      <th>1</th>\n",
              "      <td>2</td>\n",
              "      <td>41 - KITCHEN/ACCESS</td>\n",
              "      <td>408621</td>\n",
              "      <td>$7.99 T</td>\n",
              "    </tr>\n",
              "    <tr>\n",
              "      <th>2</th>\n",
              "      <td>3</td>\n",
              "      <td>41 - KITCHEN/ACCESS</td>\n",
              "      <td>408621</td>\n",
              "      <td>$7.99 T</td>\n",
              "    </tr>\n",
              "    <tr>\n",
              "      <th>3</th>\n",
              "      <td>4</td>\n",
              "      <td>36 - TOWELS</td>\n",
              "      <td>96504</td>\n",
              "      <td>$8.99 T</td>\n",
              "    </tr>\n",
              "    <tr>\n",
              "      <th>4</th>\n",
              "      <td>5</td>\n",
              "      <td>36 - TOWELS</td>\n",
              "      <td>96504</td>\n",
              "      <td>$8.99 T</td>\n",
              "    </tr>\n",
              "    <tr>\n",
              "      <th>5</th>\n",
              "      <td>6</td>\n",
              "      <td>36 - TOWELS</td>\n",
              "      <td>96508</td>\n",
              "      <td>$12.99 T</td>\n",
              "    </tr>\n",
              "    <tr>\n",
              "      <th>6</th>\n",
              "      <td>7</td>\n",
              "      <td>56 - Q LINE</td>\n",
              "      <td>12004</td>\n",
              "      <td>$4.99 T</td>\n",
              "    </tr>\n",
              "    <tr>\n",
              "      <th>7</th>\n",
              "      <td>8</td>\n",
              "      <td>31 - DINNERWARE/CER</td>\n",
              "      <td>538462</td>\n",
              "      <td>$12.99 T</td>\n",
              "    </tr>\n",
              "    <tr>\n",
              "      <th>8</th>\n",
              "      <td>9</td>\n",
              "      <td>31 - DINNERWARE/CER</td>\n",
              "      <td>538459</td>\n",
              "      <td>$12.99 T</td>\n",
              "    </tr>\n",
              "  </tbody>\n",
              "</table>\n",
              "</div>\n",
              "      <button class=\"colab-df-convert\" onclick=\"convertToInteractive('df-3d3bc37a-8f06-4695-8493-5d4dbe7ed711')\"\n",
              "              title=\"Convert this dataframe to an interactive table.\"\n",
              "              style=\"display:none;\">\n",
              "        \n",
              "  <svg xmlns=\"http://www.w3.org/2000/svg\" height=\"24px\"viewBox=\"0 0 24 24\"\n",
              "       width=\"24px\">\n",
              "    <path d=\"M0 0h24v24H0V0z\" fill=\"none\"/>\n",
              "    <path d=\"M18.56 5.44l.94 2.06.94-2.06 2.06-.94-2.06-.94-.94-2.06-.94 2.06-2.06.94zm-11 1L8.5 8.5l.94-2.06 2.06-.94-2.06-.94L8.5 2.5l-.94 2.06-2.06.94zm10 10l.94 2.06.94-2.06 2.06-.94-2.06-.94-.94-2.06-.94 2.06-2.06.94z\"/><path d=\"M17.41 7.96l-1.37-1.37c-.4-.4-.92-.59-1.43-.59-.52 0-1.04.2-1.43.59L10.3 9.45l-7.72 7.72c-.78.78-.78 2.05 0 2.83L4 21.41c.39.39.9.59 1.41.59.51 0 1.02-.2 1.41-.59l7.78-7.78 2.81-2.81c.8-.78.8-2.07 0-2.86zM5.41 20L4 18.59l7.72-7.72 1.47 1.35L5.41 20z\"/>\n",
              "  </svg>\n",
              "      </button>\n",
              "      \n",
              "  <style>\n",
              "    .colab-df-container {\n",
              "      display:flex;\n",
              "      flex-wrap:wrap;\n",
              "      gap: 12px;\n",
              "    }\n",
              "\n",
              "    .colab-df-convert {\n",
              "      background-color: #E8F0FE;\n",
              "      border: none;\n",
              "      border-radius: 50%;\n",
              "      cursor: pointer;\n",
              "      display: none;\n",
              "      fill: #1967D2;\n",
              "      height: 32px;\n",
              "      padding: 0 0 0 0;\n",
              "      width: 32px;\n",
              "    }\n",
              "\n",
              "    .colab-df-convert:hover {\n",
              "      background-color: #E2EBFA;\n",
              "      box-shadow: 0px 1px 2px rgba(60, 64, 67, 0.3), 0px 1px 3px 1px rgba(60, 64, 67, 0.15);\n",
              "      fill: #174EA6;\n",
              "    }\n",
              "\n",
              "    [theme=dark] .colab-df-convert {\n",
              "      background-color: #3B4455;\n",
              "      fill: #D2E3FC;\n",
              "    }\n",
              "\n",
              "    [theme=dark] .colab-df-convert:hover {\n",
              "      background-color: #434B5C;\n",
              "      box-shadow: 0px 1px 3px 1px rgba(0, 0, 0, 0.15);\n",
              "      filter: drop-shadow(0px 1px 2px rgba(0, 0, 0, 0.3));\n",
              "      fill: #FFFFFF;\n",
              "    }\n",
              "  </style>\n",
              "\n",
              "      <script>\n",
              "        const buttonEl =\n",
              "          document.querySelector('#df-3d3bc37a-8f06-4695-8493-5d4dbe7ed711 button.colab-df-convert');\n",
              "        buttonEl.style.display =\n",
              "          google.colab.kernel.accessAllowed ? 'block' : 'none';\n",
              "\n",
              "        async function convertToInteractive(key) {\n",
              "          const element = document.querySelector('#df-3d3bc37a-8f06-4695-8493-5d4dbe7ed711');\n",
              "          const dataTable =\n",
              "            await google.colab.kernel.invokeFunction('convertToInteractive',\n",
              "                                                     [key], {});\n",
              "          if (!dataTable) return;\n",
              "\n",
              "          const docLinkHtml = 'Like what you see? Visit the ' +\n",
              "            '<a target=\"_blank\" href=https://colab.research.google.com/notebooks/data_table.ipynb>data table notebook</a>'\n",
              "            + ' to learn more about interactive tables.';\n",
              "          element.innerHTML = '';\n",
              "          dataTable['output_type'] = 'display_data';\n",
              "          await google.colab.output.renderOutput(dataTable, element);\n",
              "          const docLink = document.createElement('div');\n",
              "          docLink.innerHTML = docLinkHtml;\n",
              "          element.appendChild(docLink);\n",
              "        }\n",
              "      </script>\n",
              "    </div>\n",
              "  </div>\n",
              "  "
            ]
          },
          "metadata": {},
          "execution_count": 19
        }
      ]
    },
    {
      "cell_type": "code",
      "source": [
        "columns = len(df.axes[1])\n",
        "columns"
      ],
      "metadata": {
        "colab": {
          "base_uri": "https://localhost:8080/"
        },
        "id": "uMVhMb9S7Atx",
        "outputId": "b0e09ee3-2865-484d-c16a-3d4f976955d0"
      },
      "execution_count": 20,
      "outputs": [
        {
          "output_type": "execute_result",
          "data": {
            "text/plain": [
              "4"
            ]
          },
          "metadata": {},
          "execution_count": 20
        }
      ]
    },
    {
      "cell_type": "code",
      "source": [
        "#file = 'table1.csv'\n",
        "columns = len(df.axes[1])\n",
        "if columns == 1:\n",
        "  print(columns)\n",
        "elif columns==2:\n",
        "  df0 = pd.read_csv(file,  names=['Col1', 'Col2'], header=None,  dtype=str)\n",
        "  print(df0)\n",
        "  print('2')\n",
        "elif columns==3:\n",
        "  df0 = pd.read_csv(file,  names=['Col1', 'Col2', 'Col3'], header=None,  dtype=str)\n",
        "  print(df0)\n",
        "  print('3')\n",
        "elif columns==4:\n",
        "  df0 = pd.read_csv(file, names=['Col1', 'Col2', 'Col3', 'Col4'], header=None,  dtype=str)\n",
        "  print(df0)\n",
        "  print('4')\n",
        "else:\n",
        "  df0 = pd.read_csv(file, header=None,  dtype=str)\n",
        "  print(df0)\n",
        "  print('5')"
      ],
      "metadata": {
        "colab": {
          "base_uri": "https://localhost:8080/"
        },
        "id": "9fCyzNTb7Dgu",
        "outputId": "46361c7b-0c01-4e7b-b5ce-653a7a385af2"
      },
      "execution_count": 21,
      "outputs": [
        {
          "output_type": "stream",
          "name": "stdout",
          "text": [
            "  Col1                 Col2    Col3      Col4\n",
            "0  NaN  41 - KITCHEN/ACCESS  392204   $7.99 T\n",
            "1    1  41 - KITCHEN/ACCESS  403389   $5.99 T\n",
            "2    2  41 - KITCHEN/ACCESS  408621   $7.99 T\n",
            "3    3  41 - KITCHEN/ACCESS  408621   $7.99 T\n",
            "4    4          36 - TOWELS  096504   $8.99 T\n",
            "5    5          36 - TOWELS  096504   $8.99 T\n",
            "6    6          36 - TOWELS  096508  $12.99 T\n",
            "7    7          56 - Q LINE  012004   $4.99 T\n",
            "8    8  31 - DINNERWARE/CER  538462  $12.99 T\n",
            "9    9  31 - DINNERWARE/CER  538459  $12.99 T\n",
            "4\n"
          ]
        }
      ]
    },
    {
      "cell_type": "code",
      "source": [
        "import pandas as pd\n",
        "file = 'table4.csv'\n",
        "df =pd.read_csv(file)\n",
        "#df\n",
        "columns = len(df.axes[1])\n",
        "#file = 'table1.csv'\n",
        "columns = len(df.axes[1])\n",
        "if columns == 1:\n",
        "  df0 = pd.read_csv(file,  names=['Col1'], header=None,  dtype=str)\n",
        "  print(df0)\n",
        "  print(columns)\n",
        "elif columns==2:\n",
        "  df0 = pd.read_csv(file,  names=['Col1', 'Col2'], header=None,  dtype=str)\n",
        "  print(df0)\n",
        "  print('2')\n",
        "elif columns==3:\n",
        "  df0 = pd.read_csv(file,  names=['Col1', 'Col2', 'Col3'], header=None,  dtype=str)\n",
        "  print(df0)\n",
        "  print('3')\n",
        "elif columns==4:\n",
        "  df0 = pd.read_csv(file, names=['Col1', 'Col2', 'Col3', 'Col4'], header=None,  dtype=str)\n",
        "  print(df0)\n",
        "  print('4')\n",
        "elif columns==5:\n",
        "  df0 = pd.read_csv(file, names=['Col1', 'Col2', 'Col3', 'Col4', 'Col5'], header=None,  dtype=str)\n",
        "  print(df0)\n",
        "  print('5')\n",
        "elif columns==6:\n",
        "  df0 = pd.read_csv(file, names=['Col1', 'Col2', 'Col3', 'Col4', 'Col5', 'Col6'], header=None,  dtype=str)\n",
        "  print(df0)\n",
        "  print('6')\n",
        "else:\n",
        "  df0 = pd.read_csv(file, header=None,  dtype=str)\n",
        "  print(df0)\n",
        "  print('5')"
      ],
      "metadata": {
        "colab": {
          "base_uri": "https://localhost:8080/"
        },
        "id": "RsiZHW9E6sco",
        "outputId": "cd8adda3-3ed9-4da9-c297-ae6636a3c585"
      },
      "execution_count": 35,
      "outputs": [
        {
          "output_type": "stream",
          "name": "stdout",
          "text": [
            "  Col1 Col2                   Col3 Col4  Col5\n",
            "0  NaN    1      CM ORG WHOLE MILK   FW  5.98\n",
            "1    1    2  HCF X-LG GRADE A EGGS   FW  4.17\n",
            "5\n"
          ]
        }
      ]
    }
  ]
}